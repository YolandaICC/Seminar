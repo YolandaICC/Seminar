{
 "cells": [
  {
   "cell_type": "markdown",
   "id": "ce4f2f7b-3f8a-4075-bff9-42ce9692be91",
   "metadata": {
    "tags": []
   },
   "source": [
    "# **Notebook I - Data preprocessing**\n",
    "This notebook covers the fundamentals of importing libraries in Python, loading datasets from CSV files, and visualizing them. It also includes basic preprocessing techniques such as missing data detection, interpolation, normalization, and label encoding. Finally, the notebook covers how to save and load datasets in pickle format, which is useful for caching and checkpointing in machine learning applications."
   ]
  },
  {
   "cell_type": "markdown",
   "id": "5f546e53-995c-4829-85ca-f36480929b62",
   "metadata": {},
   "source": [
    "#### **Install required libraries using pip**"
   ]
  },
  {
   "cell_type": "code",
   "execution_count": 1,
   "id": "b2fa618f-9cb6-4cbf-b416-56003ae4cdf1",
   "metadata": {
    "ExecuteTime": {
     "end_time": "2023-05-03T07:53:57.667683258Z",
     "start_time": "2023-05-03T07:53:57.646097863Z"
    },
    "tags": []
   },
   "outputs": [
    {
     "name": "stdout",
     "output_type": "stream",
     "text": [
      "Requirement already satisfied: scikit-learn in /home/ganesh/micromamba/lib/python3.9/site-packages (1.2.2)\n",
      "Requirement already satisfied: threadpoolctl>=2.0.0 in /home/ganesh/micromamba/lib/python3.9/site-packages (from scikit-learn) (3.1.0)\n",
      "Requirement already satisfied: scipy>=1.3.2 in /home/ganesh/micromamba/lib/python3.9/site-packages (from scikit-learn) (1.10.1)\n",
      "Requirement already satisfied: joblib>=1.1.1 in /home/ganesh/micromamba/lib/python3.9/site-packages (from scikit-learn) (1.2.0)\n",
      "Requirement already satisfied: numpy>=1.17.3 in /home/ganesh/micromamba/lib/python3.9/site-packages (from scikit-learn) (1.24.2)\n"
     ]
    }
   ],
   "source": [
    "#!pip install matplotlib\n",
    "#!pip install pandas\n",
    "!pip install -U scikit-learn"
   ]
  },
  {
   "cell_type": "markdown",
   "id": "e35a77a3-47b6-4a85-8d37-a999a331ae6e",
   "metadata": {
    "tags": []
   },
   "source": [
    "### **1. Importing libraries**\n",
    "**4 ways to import libraries**\n",
    "\n",
    "- **_import pandas_**                                 ---> then pandas.function_name <br> \n",
    "- **_import pandas as pd_**                           ---> then pd.function_name <br> \n",
    "- **_from pandas import function_name_**              ---> then 'function_name' can be directly used <br> \n",
    "- **_from pandas import function_name as fun_name_**  ---> then 'fun_name' can be used as alias"
   ]
  },
  {
   "cell_type": "code",
   "execution_count": 2,
   "id": "de86bd53-e26f-4a89-bbd4-bf0fa541dc5e",
   "metadata": {
    "ExecuteTime": {
     "end_time": "2023-05-03T07:53:58.166372667Z",
     "start_time": "2023-05-03T07:53:57.646342013Z"
    },
    "tags": []
   },
   "outputs": [],
   "source": [
    "import pandas as pd # pd stands for pandas dataframe\n",
    "import numpy as np  \n",
    "import matplotlib.pyplot as plt"
   ]
  },
  {
   "cell_type": "markdown",
   "id": "c633e23a-1209-494e-b2c7-b9da637d9ba3",
   "metadata": {},
   "source": [
    "### **2. Reading data ('weatherHistory.csv')**"
   ]
  },
  {
   "cell_type": "code",
   "execution_count": 3,
   "id": "297ca54e-8f47-4284-b1c4-d68d6bd1756e",
   "metadata": {
    "ExecuteTime": {
     "end_time": "2023-05-03T07:53:58.303524990Z",
     "start_time": "2023-05-03T07:53:58.167267585Z"
    },
    "tags": []
   },
   "outputs": [],
   "source": [
    "# 'read_csv' is function inside 'pandas' library, so it could be accessed by pd.read_csv function\n",
    "Data = pd.read_csv('weatherHistory.csv')"
   ]
  },
  {
   "cell_type": "markdown",
   "id": "5eb4780a-1f69-43bb-8122-ee60c6c319ec",
   "metadata": {},
   "source": [
    "### **Why Pandas Dataframe ?**\n",
    "Pandas DataFrame is a two-dimensional data structure that is used for organizing and manipulating data in Python. It consists of rows and columns, where each column can contain data of a different type such as integers, floats, or strings. DataFrames are highly versatile and offer a range of functionalities, such as indexing, selection, filtering, aggregation, and merging of data.\n",
    "\n",
    "**special functions in pandas includes:**\n",
    "- dataframe.shape()\n",
    "- dataframe.head()\n",
    "- dataframe.tail()\n",
    "- dataframe.describe()\n",
    "- dataframe.drop()"
   ]
  },
  {
   "cell_type": "code",
   "execution_count": 4,
   "id": "5c218c11-9c10-4215-be8f-bec47de0d516",
   "metadata": {
    "ExecuteTime": {
     "end_time": "2023-05-03T07:53:58.309721425Z",
     "start_time": "2023-05-03T07:53:58.299353903Z"
    },
    "tags": []
   },
   "outputs": [
    {
     "data": {
      "text/plain": [
       "(96453, 12)"
      ]
     },
     "execution_count": 4,
     "metadata": {},
     "output_type": "execute_result"
    }
   ],
   "source": [
    "# Get shape of the dataset\n",
    "Data.shape"
   ]
  },
  {
   "cell_type": "code",
   "execution_count": 5,
   "id": "2e7a69d6-e3b1-4591-9ec4-8d2fcb0f5e7b",
   "metadata": {
    "ExecuteTime": {
     "end_time": "2023-05-03T07:53:58.382862905Z",
     "start_time": "2023-05-03T07:53:58.342473319Z"
    },
    "tags": []
   },
   "outputs": [
    {
     "data": {
      "text/html": [
       "<div>\n",
       "<style scoped>\n",
       "    .dataframe tbody tr th:only-of-type {\n",
       "        vertical-align: middle;\n",
       "    }\n",
       "\n",
       "    .dataframe tbody tr th {\n",
       "        vertical-align: top;\n",
       "    }\n",
       "\n",
       "    .dataframe thead th {\n",
       "        text-align: right;\n",
       "    }\n",
       "</style>\n",
       "<table border=\"1\" class=\"dataframe\">\n",
       "  <thead>\n",
       "    <tr style=\"text-align: right;\">\n",
       "      <th></th>\n",
       "      <th>Formatted Date</th>\n",
       "      <th>Summary</th>\n",
       "      <th>Precip Type</th>\n",
       "      <th>Temperature (C)</th>\n",
       "      <th>Apparent Temperature (C)</th>\n",
       "      <th>Humidity</th>\n",
       "      <th>Wind Speed (km/h)</th>\n",
       "      <th>Wind Bearing (degrees)</th>\n",
       "      <th>Visibility (km)</th>\n",
       "      <th>Loud Cover</th>\n",
       "      <th>Pressure (millibars)</th>\n",
       "      <th>Daily Summary</th>\n",
       "    </tr>\n",
       "  </thead>\n",
       "  <tbody>\n",
       "    <tr>\n",
       "      <th>0</th>\n",
       "      <td>2006-04-01 00:00:00.000 +0200</td>\n",
       "      <td>Partly Cloudy</td>\n",
       "      <td>rain</td>\n",
       "      <td>9.472222</td>\n",
       "      <td>7.388889</td>\n",
       "      <td>0.89</td>\n",
       "      <td>14.1197</td>\n",
       "      <td>251.0</td>\n",
       "      <td>15.8263</td>\n",
       "      <td>0.0</td>\n",
       "      <td>1015.13</td>\n",
       "      <td>Partly cloudy throughout the day.</td>\n",
       "    </tr>\n",
       "    <tr>\n",
       "      <th>1</th>\n",
       "      <td>2006-04-01 01:00:00.000 +0200</td>\n",
       "      <td>Partly Cloudy</td>\n",
       "      <td>rain</td>\n",
       "      <td>9.355556</td>\n",
       "      <td>7.227778</td>\n",
       "      <td>0.86</td>\n",
       "      <td>14.2646</td>\n",
       "      <td>259.0</td>\n",
       "      <td>15.8263</td>\n",
       "      <td>0.0</td>\n",
       "      <td>1015.63</td>\n",
       "      <td>Partly cloudy throughout the day.</td>\n",
       "    </tr>\n",
       "    <tr>\n",
       "      <th>2</th>\n",
       "      <td>2006-04-01 02:00:00.000 +0200</td>\n",
       "      <td>Mostly Cloudy</td>\n",
       "      <td>rain</td>\n",
       "      <td>9.377778</td>\n",
       "      <td>9.377778</td>\n",
       "      <td>0.89</td>\n",
       "      <td>3.9284</td>\n",
       "      <td>204.0</td>\n",
       "      <td>14.9569</td>\n",
       "      <td>0.0</td>\n",
       "      <td>1015.94</td>\n",
       "      <td>Partly cloudy throughout the day.</td>\n",
       "    </tr>\n",
       "    <tr>\n",
       "      <th>3</th>\n",
       "      <td>2006-04-01 03:00:00.000 +0200</td>\n",
       "      <td>Partly Cloudy</td>\n",
       "      <td>rain</td>\n",
       "      <td>8.288889</td>\n",
       "      <td>5.944444</td>\n",
       "      <td>0.83</td>\n",
       "      <td>14.1036</td>\n",
       "      <td>269.0</td>\n",
       "      <td>15.8263</td>\n",
       "      <td>0.0</td>\n",
       "      <td>1016.41</td>\n",
       "      <td>Partly cloudy throughout the day.</td>\n",
       "    </tr>\n",
       "    <tr>\n",
       "      <th>4</th>\n",
       "      <td>2006-04-01 04:00:00.000 +0200</td>\n",
       "      <td>Mostly Cloudy</td>\n",
       "      <td>rain</td>\n",
       "      <td>8.755556</td>\n",
       "      <td>6.977778</td>\n",
       "      <td>0.83</td>\n",
       "      <td>11.0446</td>\n",
       "      <td>259.0</td>\n",
       "      <td>15.8263</td>\n",
       "      <td>0.0</td>\n",
       "      <td>1016.51</td>\n",
       "      <td>Partly cloudy throughout the day.</td>\n",
       "    </tr>\n",
       "  </tbody>\n",
       "</table>\n",
       "</div>"
      ],
      "text/plain": [
       "                  Formatted Date        Summary Precip Type  Temperature (C)   \n",
       "0  2006-04-01 00:00:00.000 +0200  Partly Cloudy        rain         9.472222  \\\n",
       "1  2006-04-01 01:00:00.000 +0200  Partly Cloudy        rain         9.355556   \n",
       "2  2006-04-01 02:00:00.000 +0200  Mostly Cloudy        rain         9.377778   \n",
       "3  2006-04-01 03:00:00.000 +0200  Partly Cloudy        rain         8.288889   \n",
       "4  2006-04-01 04:00:00.000 +0200  Mostly Cloudy        rain         8.755556   \n",
       "\n",
       "   Apparent Temperature (C)  Humidity  Wind Speed (km/h)   \n",
       "0                  7.388889      0.89            14.1197  \\\n",
       "1                  7.227778      0.86            14.2646   \n",
       "2                  9.377778      0.89             3.9284   \n",
       "3                  5.944444      0.83            14.1036   \n",
       "4                  6.977778      0.83            11.0446   \n",
       "\n",
       "   Wind Bearing (degrees)  Visibility (km)  Loud Cover  Pressure (millibars)   \n",
       "0                   251.0          15.8263         0.0               1015.13  \\\n",
       "1                   259.0          15.8263         0.0               1015.63   \n",
       "2                   204.0          14.9569         0.0               1015.94   \n",
       "3                   269.0          15.8263         0.0               1016.41   \n",
       "4                   259.0          15.8263         0.0               1016.51   \n",
       "\n",
       "                       Daily Summary  \n",
       "0  Partly cloudy throughout the day.  \n",
       "1  Partly cloudy throughout the day.  \n",
       "2  Partly cloudy throughout the day.  \n",
       "3  Partly cloudy throughout the day.  \n",
       "4  Partly cloudy throughout the day.  "
      ]
     },
     "execution_count": 5,
     "metadata": {},
     "output_type": "execute_result"
    }
   ],
   "source": [
    "# Display first 5 datapoints\n",
    "Data.head()"
   ]
  },
  {
   "cell_type": "code",
   "execution_count": 6,
   "id": "658410c1-034a-4d87-8c9b-0d3bf62186d5",
   "metadata": {
    "ExecuteTime": {
     "end_time": "2023-05-03T07:53:58.383249214Z",
     "start_time": "2023-05-03T07:53:58.342889754Z"
    },
    "tags": []
   },
   "outputs": [
    {
     "data": {
      "text/html": [
       "<div>\n",
       "<style scoped>\n",
       "    .dataframe tbody tr th:only-of-type {\n",
       "        vertical-align: middle;\n",
       "    }\n",
       "\n",
       "    .dataframe tbody tr th {\n",
       "        vertical-align: top;\n",
       "    }\n",
       "\n",
       "    .dataframe thead th {\n",
       "        text-align: right;\n",
       "    }\n",
       "</style>\n",
       "<table border=\"1\" class=\"dataframe\">\n",
       "  <thead>\n",
       "    <tr style=\"text-align: right;\">\n",
       "      <th></th>\n",
       "      <th>Formatted Date</th>\n",
       "      <th>Summary</th>\n",
       "      <th>Precip Type</th>\n",
       "      <th>Temperature (C)</th>\n",
       "      <th>Apparent Temperature (C)</th>\n",
       "      <th>Humidity</th>\n",
       "      <th>Wind Speed (km/h)</th>\n",
       "      <th>Wind Bearing (degrees)</th>\n",
       "      <th>Visibility (km)</th>\n",
       "      <th>Loud Cover</th>\n",
       "      <th>Pressure (millibars)</th>\n",
       "      <th>Daily Summary</th>\n",
       "    </tr>\n",
       "  </thead>\n",
       "  <tbody>\n",
       "    <tr>\n",
       "      <th>96448</th>\n",
       "      <td>2016-09-09 19:00:00.000 +0200</td>\n",
       "      <td>Partly Cloudy</td>\n",
       "      <td>rain</td>\n",
       "      <td>26.016667</td>\n",
       "      <td>26.016667</td>\n",
       "      <td>0.43</td>\n",
       "      <td>10.9963</td>\n",
       "      <td>31.0</td>\n",
       "      <td>16.1000</td>\n",
       "      <td>0.0</td>\n",
       "      <td>1014.36</td>\n",
       "      <td>Partly cloudy starting in the morning.</td>\n",
       "    </tr>\n",
       "    <tr>\n",
       "      <th>96449</th>\n",
       "      <td>2016-09-09 20:00:00.000 +0200</td>\n",
       "      <td>Partly Cloudy</td>\n",
       "      <td>rain</td>\n",
       "      <td>24.583333</td>\n",
       "      <td>24.583333</td>\n",
       "      <td>0.48</td>\n",
       "      <td>10.0947</td>\n",
       "      <td>20.0</td>\n",
       "      <td>15.5526</td>\n",
       "      <td>0.0</td>\n",
       "      <td>1015.16</td>\n",
       "      <td>Partly cloudy starting in the morning.</td>\n",
       "    </tr>\n",
       "    <tr>\n",
       "      <th>96450</th>\n",
       "      <td>2016-09-09 21:00:00.000 +0200</td>\n",
       "      <td>Partly Cloudy</td>\n",
       "      <td>rain</td>\n",
       "      <td>22.038889</td>\n",
       "      <td>22.038889</td>\n",
       "      <td>0.56</td>\n",
       "      <td>8.9838</td>\n",
       "      <td>30.0</td>\n",
       "      <td>16.1000</td>\n",
       "      <td>0.0</td>\n",
       "      <td>1015.66</td>\n",
       "      <td>Partly cloudy starting in the morning.</td>\n",
       "    </tr>\n",
       "    <tr>\n",
       "      <th>96451</th>\n",
       "      <td>2016-09-09 22:00:00.000 +0200</td>\n",
       "      <td>Partly Cloudy</td>\n",
       "      <td>rain</td>\n",
       "      <td>21.522222</td>\n",
       "      <td>21.522222</td>\n",
       "      <td>0.60</td>\n",
       "      <td>10.5294</td>\n",
       "      <td>20.0</td>\n",
       "      <td>16.1000</td>\n",
       "      <td>0.0</td>\n",
       "      <td>1015.95</td>\n",
       "      <td>Partly cloudy starting in the morning.</td>\n",
       "    </tr>\n",
       "    <tr>\n",
       "      <th>96452</th>\n",
       "      <td>2016-09-09 23:00:00.000 +0200</td>\n",
       "      <td>Partly Cloudy</td>\n",
       "      <td>rain</td>\n",
       "      <td>20.438889</td>\n",
       "      <td>20.438889</td>\n",
       "      <td>0.61</td>\n",
       "      <td>5.8765</td>\n",
       "      <td>39.0</td>\n",
       "      <td>15.5204</td>\n",
       "      <td>0.0</td>\n",
       "      <td>1016.16</td>\n",
       "      <td>Partly cloudy starting in the morning.</td>\n",
       "    </tr>\n",
       "  </tbody>\n",
       "</table>\n",
       "</div>"
      ],
      "text/plain": [
       "                      Formatted Date        Summary Precip Type   \n",
       "96448  2016-09-09 19:00:00.000 +0200  Partly Cloudy        rain  \\\n",
       "96449  2016-09-09 20:00:00.000 +0200  Partly Cloudy        rain   \n",
       "96450  2016-09-09 21:00:00.000 +0200  Partly Cloudy        rain   \n",
       "96451  2016-09-09 22:00:00.000 +0200  Partly Cloudy        rain   \n",
       "96452  2016-09-09 23:00:00.000 +0200  Partly Cloudy        rain   \n",
       "\n",
       "       Temperature (C)  Apparent Temperature (C)  Humidity  Wind Speed (km/h)   \n",
       "96448        26.016667                 26.016667      0.43            10.9963  \\\n",
       "96449        24.583333                 24.583333      0.48            10.0947   \n",
       "96450        22.038889                 22.038889      0.56             8.9838   \n",
       "96451        21.522222                 21.522222      0.60            10.5294   \n",
       "96452        20.438889                 20.438889      0.61             5.8765   \n",
       "\n",
       "       Wind Bearing (degrees)  Visibility (km)  Loud Cover   \n",
       "96448                    31.0          16.1000         0.0  \\\n",
       "96449                    20.0          15.5526         0.0   \n",
       "96450                    30.0          16.1000         0.0   \n",
       "96451                    20.0          16.1000         0.0   \n",
       "96452                    39.0          15.5204         0.0   \n",
       "\n",
       "       Pressure (millibars)                           Daily Summary  \n",
       "96448               1014.36  Partly cloudy starting in the morning.  \n",
       "96449               1015.16  Partly cloudy starting in the morning.  \n",
       "96450               1015.66  Partly cloudy starting in the morning.  \n",
       "96451               1015.95  Partly cloudy starting in the morning.  \n",
       "96452               1016.16  Partly cloudy starting in the morning.  "
      ]
     },
     "execution_count": 6,
     "metadata": {},
     "output_type": "execute_result"
    }
   ],
   "source": [
    "# Display last 5 datapoints\n",
    "Data.tail()"
   ]
  },
  {
   "cell_type": "code",
   "execution_count": 7,
   "id": "91ec0f9b-3b70-4fc0-8afa-881f10a8db4a",
   "metadata": {
    "ExecuteTime": {
     "end_time": "2023-05-03T07:53:58.413336352Z",
     "start_time": "2023-05-03T07:53:58.343313783Z"
    },
    "tags": []
   },
   "outputs": [
    {
     "data": {
      "text/html": [
       "<div>\n",
       "<style scoped>\n",
       "    .dataframe tbody tr th:only-of-type {\n",
       "        vertical-align: middle;\n",
       "    }\n",
       "\n",
       "    .dataframe tbody tr th {\n",
       "        vertical-align: top;\n",
       "    }\n",
       "\n",
       "    .dataframe thead th {\n",
       "        text-align: right;\n",
       "    }\n",
       "</style>\n",
       "<table border=\"1\" class=\"dataframe\">\n",
       "  <thead>\n",
       "    <tr style=\"text-align: right;\">\n",
       "      <th></th>\n",
       "      <th>Temperature (C)</th>\n",
       "      <th>Apparent Temperature (C)</th>\n",
       "      <th>Humidity</th>\n",
       "      <th>Wind Speed (km/h)</th>\n",
       "      <th>Wind Bearing (degrees)</th>\n",
       "      <th>Visibility (km)</th>\n",
       "      <th>Loud Cover</th>\n",
       "      <th>Pressure (millibars)</th>\n",
       "    </tr>\n",
       "  </thead>\n",
       "  <tbody>\n",
       "    <tr>\n",
       "      <th>count</th>\n",
       "      <td>96453.000000</td>\n",
       "      <td>96453.000000</td>\n",
       "      <td>96453.000000</td>\n",
       "      <td>96453.000000</td>\n",
       "      <td>96453.000000</td>\n",
       "      <td>96453.000000</td>\n",
       "      <td>96453.0</td>\n",
       "      <td>96453.000000</td>\n",
       "    </tr>\n",
       "    <tr>\n",
       "      <th>mean</th>\n",
       "      <td>11.932678</td>\n",
       "      <td>10.855029</td>\n",
       "      <td>0.734899</td>\n",
       "      <td>10.810640</td>\n",
       "      <td>187.509232</td>\n",
       "      <td>10.347325</td>\n",
       "      <td>0.0</td>\n",
       "      <td>1003.235956</td>\n",
       "    </tr>\n",
       "    <tr>\n",
       "      <th>std</th>\n",
       "      <td>9.551546</td>\n",
       "      <td>10.696847</td>\n",
       "      <td>0.195473</td>\n",
       "      <td>6.913571</td>\n",
       "      <td>107.383428</td>\n",
       "      <td>4.192123</td>\n",
       "      <td>0.0</td>\n",
       "      <td>116.969906</td>\n",
       "    </tr>\n",
       "    <tr>\n",
       "      <th>min</th>\n",
       "      <td>-21.822222</td>\n",
       "      <td>-27.716667</td>\n",
       "      <td>0.000000</td>\n",
       "      <td>0.000000</td>\n",
       "      <td>0.000000</td>\n",
       "      <td>0.000000</td>\n",
       "      <td>0.0</td>\n",
       "      <td>0.000000</td>\n",
       "    </tr>\n",
       "    <tr>\n",
       "      <th>25%</th>\n",
       "      <td>4.688889</td>\n",
       "      <td>2.311111</td>\n",
       "      <td>0.600000</td>\n",
       "      <td>5.828200</td>\n",
       "      <td>116.000000</td>\n",
       "      <td>8.339800</td>\n",
       "      <td>0.0</td>\n",
       "      <td>1011.900000</td>\n",
       "    </tr>\n",
       "    <tr>\n",
       "      <th>50%</th>\n",
       "      <td>12.000000</td>\n",
       "      <td>12.000000</td>\n",
       "      <td>0.780000</td>\n",
       "      <td>9.965900</td>\n",
       "      <td>180.000000</td>\n",
       "      <td>10.046400</td>\n",
       "      <td>0.0</td>\n",
       "      <td>1016.450000</td>\n",
       "    </tr>\n",
       "    <tr>\n",
       "      <th>75%</th>\n",
       "      <td>18.838889</td>\n",
       "      <td>18.838889</td>\n",
       "      <td>0.890000</td>\n",
       "      <td>14.135800</td>\n",
       "      <td>290.000000</td>\n",
       "      <td>14.812000</td>\n",
       "      <td>0.0</td>\n",
       "      <td>1021.090000</td>\n",
       "    </tr>\n",
       "    <tr>\n",
       "      <th>max</th>\n",
       "      <td>39.905556</td>\n",
       "      <td>39.344444</td>\n",
       "      <td>1.000000</td>\n",
       "      <td>63.852600</td>\n",
       "      <td>359.000000</td>\n",
       "      <td>16.100000</td>\n",
       "      <td>0.0</td>\n",
       "      <td>1046.380000</td>\n",
       "    </tr>\n",
       "  </tbody>\n",
       "</table>\n",
       "</div>"
      ],
      "text/plain": [
       "       Temperature (C)  Apparent Temperature (C)      Humidity   \n",
       "count     96453.000000              96453.000000  96453.000000  \\\n",
       "mean         11.932678                 10.855029      0.734899   \n",
       "std           9.551546                 10.696847      0.195473   \n",
       "min         -21.822222                -27.716667      0.000000   \n",
       "25%           4.688889                  2.311111      0.600000   \n",
       "50%          12.000000                 12.000000      0.780000   \n",
       "75%          18.838889                 18.838889      0.890000   \n",
       "max          39.905556                 39.344444      1.000000   \n",
       "\n",
       "       Wind Speed (km/h)  Wind Bearing (degrees)  Visibility (km)  Loud Cover   \n",
       "count       96453.000000            96453.000000     96453.000000     96453.0  \\\n",
       "mean           10.810640              187.509232        10.347325         0.0   \n",
       "std             6.913571              107.383428         4.192123         0.0   \n",
       "min             0.000000                0.000000         0.000000         0.0   \n",
       "25%             5.828200              116.000000         8.339800         0.0   \n",
       "50%             9.965900              180.000000        10.046400         0.0   \n",
       "75%            14.135800              290.000000        14.812000         0.0   \n",
       "max            63.852600              359.000000        16.100000         0.0   \n",
       "\n",
       "       Pressure (millibars)  \n",
       "count          96453.000000  \n",
       "mean            1003.235956  \n",
       "std              116.969906  \n",
       "min                0.000000  \n",
       "25%             1011.900000  \n",
       "50%             1016.450000  \n",
       "75%             1021.090000  \n",
       "max             1046.380000  "
      ]
     },
     "execution_count": 7,
     "metadata": {},
     "output_type": "execute_result"
    }
   ],
   "source": [
    "# Display descriptions of the dataframe\n",
    "Data.describe()"
   ]
  },
  {
   "cell_type": "markdown",
   "id": "a3134dd6-0226-4af3-a65e-3975b93ae911",
   "metadata": {},
   "source": [
    "### **3. Drop columns in the dataframe**"
   ]
  },
  {
   "cell_type": "code",
   "execution_count": 8,
   "id": "f518482d-39ae-49c4-9c5f-7f94eb921329",
   "metadata": {
    "ExecuteTime": {
     "end_time": "2023-05-03T07:54:04.033185620Z",
     "start_time": "2023-05-03T07:54:04.021137400Z"
    },
    "tags": []
   },
   "outputs": [
    {
     "data": {
      "text/html": [
       "<div>\n",
       "<style scoped>\n",
       "    .dataframe tbody tr th:only-of-type {\n",
       "        vertical-align: middle;\n",
       "    }\n",
       "\n",
       "    .dataframe tbody tr th {\n",
       "        vertical-align: top;\n",
       "    }\n",
       "\n",
       "    .dataframe thead th {\n",
       "        text-align: right;\n",
       "    }\n",
       "</style>\n",
       "<table border=\"1\" class=\"dataframe\">\n",
       "  <thead>\n",
       "    <tr style=\"text-align: right;\">\n",
       "      <th></th>\n",
       "      <th>Formatted Date</th>\n",
       "      <th>Precip Type</th>\n",
       "      <th>Temperature (C)</th>\n",
       "      <th>Apparent Temperature (C)</th>\n",
       "      <th>Humidity</th>\n",
       "      <th>Wind Speed (km/h)</th>\n",
       "    </tr>\n",
       "  </thead>\n",
       "  <tbody>\n",
       "    <tr>\n",
       "      <th>0</th>\n",
       "      <td>2006-04-01 00:00:00.000 +0200</td>\n",
       "      <td>rain</td>\n",
       "      <td>9.472222</td>\n",
       "      <td>7.388889</td>\n",
       "      <td>0.89</td>\n",
       "      <td>14.1197</td>\n",
       "    </tr>\n",
       "    <tr>\n",
       "      <th>1</th>\n",
       "      <td>2006-04-01 01:00:00.000 +0200</td>\n",
       "      <td>rain</td>\n",
       "      <td>9.355556</td>\n",
       "      <td>7.227778</td>\n",
       "      <td>0.86</td>\n",
       "      <td>14.2646</td>\n",
       "    </tr>\n",
       "    <tr>\n",
       "      <th>2</th>\n",
       "      <td>2006-04-01 02:00:00.000 +0200</td>\n",
       "      <td>rain</td>\n",
       "      <td>9.377778</td>\n",
       "      <td>9.377778</td>\n",
       "      <td>0.89</td>\n",
       "      <td>3.9284</td>\n",
       "    </tr>\n",
       "    <tr>\n",
       "      <th>3</th>\n",
       "      <td>2006-04-01 03:00:00.000 +0200</td>\n",
       "      <td>rain</td>\n",
       "      <td>8.288889</td>\n",
       "      <td>5.944444</td>\n",
       "      <td>0.83</td>\n",
       "      <td>14.1036</td>\n",
       "    </tr>\n",
       "    <tr>\n",
       "      <th>4</th>\n",
       "      <td>2006-04-01 04:00:00.000 +0200</td>\n",
       "      <td>rain</td>\n",
       "      <td>8.755556</td>\n",
       "      <td>6.977778</td>\n",
       "      <td>0.83</td>\n",
       "      <td>11.0446</td>\n",
       "    </tr>\n",
       "  </tbody>\n",
       "</table>\n",
       "</div>"
      ],
      "text/plain": [
       "                  Formatted Date Precip Type  Temperature (C)   \n",
       "0  2006-04-01 00:00:00.000 +0200        rain         9.472222  \\\n",
       "1  2006-04-01 01:00:00.000 +0200        rain         9.355556   \n",
       "2  2006-04-01 02:00:00.000 +0200        rain         9.377778   \n",
       "3  2006-04-01 03:00:00.000 +0200        rain         8.288889   \n",
       "4  2006-04-01 04:00:00.000 +0200        rain         8.755556   \n",
       "\n",
       "   Apparent Temperature (C)  Humidity  Wind Speed (km/h)  \n",
       "0                  7.388889      0.89            14.1197  \n",
       "1                  7.227778      0.86            14.2646  \n",
       "2                  9.377778      0.89             3.9284  \n",
       "3                  5.944444      0.83            14.1036  \n",
       "4                  6.977778      0.83            11.0446  "
      ]
     },
     "execution_count": 8,
     "metadata": {},
     "output_type": "execute_result"
    }
   ],
   "source": [
    "Data = Data.drop(['Daily Summary','Wind Bearing (degrees)','Summary', \n",
    "                  'Loud Cover','Visibility (km)','Pressure (millibars)'],axis=1)\n",
    "\n",
    "Data.head()"
   ]
  },
  {
   "cell_type": "markdown",
   "id": "aadeda93-0e38-418a-be35-81d60d1e7a4c",
   "metadata": {},
   "source": [
    "### **Format date and time to UTC format**"
   ]
  },
  {
   "cell_type": "code",
   "execution_count": 9,
   "id": "8476a79e-297b-434c-bcc4-e0d3be28faa8",
   "metadata": {
    "ExecuteTime": {
     "end_time": "2023-05-03T07:54:06.386865155Z",
     "start_time": "2023-05-03T07:54:06.163075123Z"
    },
    "tags": []
   },
   "outputs": [
    {
     "data": {
      "text/html": [
       "<div>\n",
       "<style scoped>\n",
       "    .dataframe tbody tr th:only-of-type {\n",
       "        vertical-align: middle;\n",
       "    }\n",
       "\n",
       "    .dataframe tbody tr th {\n",
       "        vertical-align: top;\n",
       "    }\n",
       "\n",
       "    .dataframe thead th {\n",
       "        text-align: right;\n",
       "    }\n",
       "</style>\n",
       "<table border=\"1\" class=\"dataframe\">\n",
       "  <thead>\n",
       "    <tr style=\"text-align: right;\">\n",
       "      <th></th>\n",
       "      <th>Precip Type</th>\n",
       "      <th>Temperature (C)</th>\n",
       "      <th>Apparent Temperature (C)</th>\n",
       "      <th>Humidity</th>\n",
       "      <th>Wind Speed (km/h)</th>\n",
       "    </tr>\n",
       "    <tr>\n",
       "      <th>Formatted Date</th>\n",
       "      <th></th>\n",
       "      <th></th>\n",
       "      <th></th>\n",
       "      <th></th>\n",
       "      <th></th>\n",
       "    </tr>\n",
       "  </thead>\n",
       "  <tbody>\n",
       "    <tr>\n",
       "      <th>2006-03-31 22:00:00+00:00</th>\n",
       "      <td>rain</td>\n",
       "      <td>9.472222</td>\n",
       "      <td>7.388889</td>\n",
       "      <td>0.89</td>\n",
       "      <td>14.1197</td>\n",
       "    </tr>\n",
       "    <tr>\n",
       "      <th>2006-03-31 23:00:00+00:00</th>\n",
       "      <td>rain</td>\n",
       "      <td>9.355556</td>\n",
       "      <td>7.227778</td>\n",
       "      <td>0.86</td>\n",
       "      <td>14.2646</td>\n",
       "    </tr>\n",
       "    <tr>\n",
       "      <th>2006-04-01 00:00:00+00:00</th>\n",
       "      <td>rain</td>\n",
       "      <td>9.377778</td>\n",
       "      <td>9.377778</td>\n",
       "      <td>0.89</td>\n",
       "      <td>3.9284</td>\n",
       "    </tr>\n",
       "    <tr>\n",
       "      <th>2006-04-01 01:00:00+00:00</th>\n",
       "      <td>rain</td>\n",
       "      <td>8.288889</td>\n",
       "      <td>5.944444</td>\n",
       "      <td>0.83</td>\n",
       "      <td>14.1036</td>\n",
       "    </tr>\n",
       "    <tr>\n",
       "      <th>2006-04-01 02:00:00+00:00</th>\n",
       "      <td>rain</td>\n",
       "      <td>8.755556</td>\n",
       "      <td>6.977778</td>\n",
       "      <td>0.83</td>\n",
       "      <td>11.0446</td>\n",
       "    </tr>\n",
       "  </tbody>\n",
       "</table>\n",
       "</div>"
      ],
      "text/plain": [
       "                          Precip Type  Temperature (C)   \n",
       "Formatted Date                                           \n",
       "2006-03-31 22:00:00+00:00        rain         9.472222  \\\n",
       "2006-03-31 23:00:00+00:00        rain         9.355556   \n",
       "2006-04-01 00:00:00+00:00        rain         9.377778   \n",
       "2006-04-01 01:00:00+00:00        rain         8.288889   \n",
       "2006-04-01 02:00:00+00:00        rain         8.755556   \n",
       "\n",
       "                           Apparent Temperature (C)  Humidity   \n",
       "Formatted Date                                                  \n",
       "2006-03-31 22:00:00+00:00                  7.388889      0.89  \\\n",
       "2006-03-31 23:00:00+00:00                  7.227778      0.86   \n",
       "2006-04-01 00:00:00+00:00                  9.377778      0.89   \n",
       "2006-04-01 01:00:00+00:00                  5.944444      0.83   \n",
       "2006-04-01 02:00:00+00:00                  6.977778      0.83   \n",
       "\n",
       "                           Wind Speed (km/h)  \n",
       "Formatted Date                                \n",
       "2006-03-31 22:00:00+00:00            14.1197  \n",
       "2006-03-31 23:00:00+00:00            14.2646  \n",
       "2006-04-01 00:00:00+00:00             3.9284  \n",
       "2006-04-01 01:00:00+00:00            14.1036  \n",
       "2006-04-01 02:00:00+00:00            11.0446  "
      ]
     },
     "execution_count": 9,
     "metadata": {},
     "output_type": "execute_result"
    }
   ],
   "source": [
    "Data['Formatted Date'] = pd.to_datetime(Data['Formatted Date'],utc=True)\n",
    "\n",
    "# Set 'Formatted Date' as index (Sorting)\n",
    "Data = Data.set_index('Formatted Date')\n",
    "\n",
    "Data.head()"
   ]
  },
  {
   "cell_type": "markdown",
   "id": "1c3558a3-9e7a-422b-bd73-7426c6987af5",
   "metadata": {},
   "source": [
    "### **Creating subsets of the entire dataset**"
   ]
  },
  {
   "cell_type": "code",
   "execution_count": 10,
   "id": "93fd3b6b-ef3d-4d2f-9f59-9f68f72222c2",
   "metadata": {
    "ExecuteTime": {
     "end_time": "2023-05-03T07:54:07.382061137Z",
     "start_time": "2023-05-03T07:54:07.375971394Z"
    },
    "tags": []
   },
   "outputs": [],
   "source": [
    "humidity_data = Data['Humidity']\n",
    "apparent_temperature = Data['Apparent Temperature (C)']"
   ]
  },
  {
   "cell_type": "markdown",
   "id": "9fa4558c-5228-4680-bb25-8ff8b173f9c1",
   "metadata": {},
   "source": [
    "### **4. Visualization using Matplotlib Library**\n",
    "\n",
    "Matplotlib is a Python library used for data visualization and graphical plotting. It provides a wide range of options for creating different types of charts, plots, and graphs, such as line charts, bar graphs, scatter plots, histograms, and more.\n",
    "\n",
    "**Note:** Alternative library which could be used for plotting: **Seaborn**"
   ]
  },
  {
   "cell_type": "code",
   "execution_count": 11,
   "id": "0d47061d-26fc-4b46-9430-1782088a07fe",
   "metadata": {
    "ExecuteTime": {
     "end_time": "2023-05-03T07:54:11.401054064Z",
     "start_time": "2023-05-03T07:54:09.393059532Z"
    },
    "tags": []
   },
   "outputs": [
    {
     "data": {
      "image/png": "[encoded data removed]",
      "text/plain": [
       "<Figure size 1500x300 with 1 Axes>"
      ]
     },
     "metadata": {},
     "output_type": "display_data"
    }
   ],
   "source": [
    "plt.figure(figsize=(15,3));\n",
    "\n",
    "plt.plot(humidity_data, label = 'Humidity', color ='blue',linestyle='dashed');\n",
    "plt.plot(apparent_temperature, label = 'Apparent temp.', color  = 'orange', linestyle='dashed');\n",
    "plt.title('Variation of Apparent temperature v/s Humidity', fontsize = 25);\n",
    "\n",
    "plt.legend(loc=0, fontsize =12);\n",
    "\n",
    "plt.xticks(fontsize = 15);\n",
    "plt.yticks(fontsize=13);"
   ]
  },
  {
   "cell_type": "markdown",
   "id": "d5d06323-418f-4f33-85a0-f507f90d9cc1",
   "metadata": {},
   "source": [
    "### **Take Monthly Average and Plot Data**\n",
    "\n",
    "**resample()** is used to change the frequency of time-series data, while **mean()** is used to calculate the mean of the data for a given period.\n",
    "\n",
    "**Note:** For monthly average, the data should be resampled at the start of every month. The 'MS' stands for \"Month Start\".\n",
    "\n",
    "resample('MS') gets the first data point of each month. The resulting data will have a monthly frequency and the values will be the first data point of each month."
   ]
  },
  {
   "cell_type": "code",
   "execution_count": 12,
   "id": "636c10f4-6173-47b9-a55f-a3ad66defff6",
   "metadata": {
    "ExecuteTime": {
     "end_time": "2023-05-03T07:54:19.560249756Z",
     "start_time": "2023-05-03T07:54:19.502059071Z"
    },
    "tags": []
   },
   "outputs": [],
   "source": [
    "humidity_data_mean = Data['Humidity'].resample('MS').mean()\n",
    "apparent_temperature_mean = Data['Apparent Temperature (C)'].resample('MS').mean()"
   ]
  },
  {
   "cell_type": "code",
   "execution_count": 13,
   "id": "8f144311-63a5-4ae5-abb4-0001d076354f",
   "metadata": {
    "ExecuteTime": {
     "end_time": "2023-05-03T07:54:20.578939792Z",
     "start_time": "2023-05-03T07:54:20.427224721Z"
    },
    "tags": []
   },
   "outputs": [
    {
     "data": {
      "image/png": "[encoded data removed]",
      "text/plain": [
       "<Figure size 1500x300 with 1 Axes>"
      ]
     },
     "metadata": {},
     "output_type": "display_data"
    }
   ],
   "source": [
    "plt.figure(figsize=(15,3));\n",
    "\n",
    "plt.plot(humidity_data_mean, label = 'Humidity', color ='blue',linestyle='dashed');\n",
    "plt.plot(apparent_temperature_mean, label = 'Apparent temp.', color  = 'orange', linestyle='dashed');\n",
    "plt.title('Variation of Apparent temperature v/s Humidity', fontsize = 25);\n",
    "\n",
    "plt.legend(loc=0, fontsize=12);\n",
    "\n",
    "plt.xticks(fontsize = 15);\n",
    "plt.yticks(fontsize=13);"
   ]
  },
  {
   "cell_type": "markdown",
   "id": "cc3516d4-a17e-4069-8066-4d0b627e22a8",
   "metadata": {},
   "source": [
    "## **5. Preprocessing**"
   ]
  },
  {
   "cell_type": "markdown",
   "id": "f27dee15-e95b-40d3-95c9-c83fe4494b43",
   "metadata": {},
   "source": [
    "### **Missing Value Detection**\n",
    "Missing value detection is an essential step in data analysis and cleaning as missing data can have a significant impact on the quality and reliability of data analysis results. When dealing with large datasets, missing values are common and can occur due to various reasons such as errors in data collection or data entry, system failures, or human errors.\n",
    "\n",
    "The presence of missing values can affect the results of data analysis and modeling, as they can lead to biased or inaccurate results. Therefore, it is crucial to detect and handle missing values before proceeding with data analysis.\n",
    "\n",
    "It could be handled by _isnull()_ or _dropna()_"
   ]
  },
  {
   "cell_type": "code",
   "execution_count": 14,
   "id": "8fe52f30-a984-45d4-9f75-03fce511d2e6",
   "metadata": {
    "ExecuteTime": {
     "end_time": "2023-05-03T07:54:25.197639618Z",
     "start_time": "2023-05-03T07:54:25.186702775Z"
    },
    "tags": []
   },
   "outputs": [
    {
     "name": "stdout",
     "output_type": "stream",
     "text": [
      "Total number of our missing value in each feature:\n",
      "Precip Type                 517\n",
      "Temperature (C)               0\n",
      "Apparent Temperature (C)      0\n",
      "Humidity                      0\n",
      "Wind Speed (km/h)             0\n",
      "dtype: int64\n"
     ]
    }
   ],
   "source": [
    "# get the number of missing data points per column\n",
    "missing_value_count = (Data.isnull().sum())\n",
    "\n",
    "print('Total number of our missing value in each feature:')\n",
    "print(missing_value_count)"
   ]
  },
  {
   "cell_type": "code",
   "execution_count": 15,
   "id": "98dccd34-0305-4c92-abb0-ab31eba71231",
   "metadata": {
    "ExecuteTime": {
     "end_time": "2023-05-03T07:54:26.694089781Z",
     "start_time": "2023-05-03T07:54:26.688794906Z"
    },
    "tags": []
   },
   "outputs": [
    {
     "name": "stdout",
     "output_type": "stream",
     "text": [
      "Total number of our missing value : 517\n",
      "Total number of our cells is : 482265\n"
     ]
    }
   ],
   "source": [
    "total_cells = np.product(Data.shape)\n",
    "total_missing_value = missing_value_count.sum()\n",
    "\n",
    "print('Total number of our missing value :', total_missing_value)\n",
    "print('Total number of our cells is :', total_cells)"
   ]
  },
  {
   "cell_type": "markdown",
   "id": "7205ce46-c302-44cd-bb98-0a629bbe2531",
   "metadata": {},
   "source": [
    "We have 517 missing values, and deleting them is not an option as it would result in the loss of 517 Formatted Date entries, which would negatively impact our analysis.\n",
    "\n",
    "The majority of the Precip Type data indicates **rain**, so we will fill in the missing values with the **rain** variable."
   ]
  },
  {
   "cell_type": "markdown",
   "id": "fdb3fd2c-79a7-41b3-88f8-121115361325",
   "metadata": {},
   "source": [
    "### **Modify Dataset**\n",
    "\n",
    "**fillna()** is a function in the Pandas library that is used to fill missing values in a DataFrame or Series. \n",
    "\n",
    "**Usage:** _DataFrame.fillna(value=None, method=None, axis=None, inplace=False)_\n",
    "\n",
    "_**value**_: This argument specifies the value that will be used to replace missing values in the DataFrame or Series. It can be a scalar value or a dictionary of column names and values.\n",
    "\n",
    "_**method**_: This argument specifies the method to use for filling missing values. It can be one of the following values: 'backfill', 'bfill', 'ffill', 'pad', 'nearest', or 'interpolate'.\n",
    "\n",
    "_**axis**_: This argument specifies the axis along which to fill missing values. It can be 0 or 1, with 0 being rows and 1 being columns.\n",
    "\n",
    "_**inplace**_: This argument is a Boolean value that specifies whether to modify the original DataFrame or Series or create a new one."
   ]
  },
  {
   "cell_type": "code",
   "execution_count": 16,
   "id": "8cfcb78b-a5da-4919-a05b-408bbc7362bd",
   "metadata": {
    "ExecuteTime": {
     "end_time": "2023-05-03T07:54:28.970450802Z",
     "start_time": "2023-05-03T07:54:28.926770491Z"
    },
    "tags": []
   },
   "outputs": [],
   "source": [
    "# replace the missing values with rain variable\n",
    "Data['Precip Type'].fillna(\"rain\", inplace = True)"
   ]
  },
  {
   "cell_type": "markdown",
   "id": "77be68b1-0a29-4613-86ce-6799cc5cc333",
   "metadata": {},
   "source": [
    "### So after filling the missing values, let's check it more again:"
   ]
  },
  {
   "cell_type": "code",
   "execution_count": 17,
   "id": "7d483dff-7983-4796-8e0f-f380764086f6",
   "metadata": {
    "ExecuteTime": {
     "end_time": "2023-05-03T07:54:30.518234162Z",
     "start_time": "2023-05-03T07:54:30.513736579Z"
    },
    "tags": []
   },
   "outputs": [
    {
     "name": "stdout",
     "output_type": "stream",
     "text": [
      "Total number of our missing value in each feature:\n",
      "Precip Type                 0\n",
      "Temperature (C)             0\n",
      "Apparent Temperature (C)    0\n",
      "Humidity                    0\n",
      "Wind Speed (km/h)           0\n",
      "dtype: int64\n"
     ]
    }
   ],
   "source": [
    "missing_value_count = (Data.isnull().sum())\n",
    "\n",
    "print('Total number of our missing value in each feature:')\n",
    "print(missing_value_count)"
   ]
  },
  {
   "cell_type": "markdown",
   "id": "61a65fde-ba4e-429c-820b-dae9d7feeb9f",
   "metadata": {},
   "source": [
    "### **Filling Missing Values with Interpolation**\n",
    "\n",
    "**Usage:** _dataframe['feature'].fillna(dataframe['feature'].interpolate(), inplace=True)_"
   ]
  },
  {
   "cell_type": "markdown",
   "id": "639ad48a-0957-4d80-86c9-c781ad3e3fad",
   "metadata": {},
   "source": [
    "### **Label Encoding**\n",
    "Label encoding is a technique used in machine learning and data analysis to convert categorical data into numerical data. In Pandas, label encoding is a process of mapping categorical data to numerical labels.\n",
    "\n",
    "In label encoding, each unique category value is assigned a unique integer label. For example, if we have a column with categorical data 'red', 'green', and 'blue', the label encoding would map 'red' to 0, 'green' to 1, and 'blue' to 2. The encoded values are numerical and can be used as input to machine learning algorithms that require numerical data."
   ]
  },
  {
   "cell_type": "code",
   "execution_count": 18,
   "id": "8fe25209-6092-418f-8d68-896e90715b59",
   "metadata": {
    "ExecuteTime": {
     "end_time": "2023-05-03T07:54:35.333719793Z",
     "start_time": "2023-05-03T07:54:35.329566812Z"
    },
    "tags": []
   },
   "outputs": [
    {
     "name": "stdout",
     "output_type": "stream",
     "text": [
      "['rain' 'snow']\n"
     ]
    }
   ],
   "source": [
    "precipitation_types = Data['Precip Type'].unique()\n",
    "print(precipitation_types)"
   ]
  },
  {
   "cell_type": "markdown",
   "id": "30fc55fa-d490-4488-9dc5-059461848fb9",
   "metadata": {},
   "source": [
    "In Pandas, the **LabelEncoder** class from the **sklearn.preprocessing** module can be used for label encoding. \n",
    "\n",
    "Lets import **LabelEncoder** class from _**sklearn**_ library\n",
    "\n",
    "**Sklearn**, also known as **scikit-learn**, is a Python machine learning library that is built on the foundations of the NumPy, SciPy, and matplotlib libraries. The library provides users with simple and efficient tools for both data mining and analysis, and includes capabilities for model selection, data preprocessing, and evaluation."
   ]
  },
  {
   "cell_type": "code",
   "execution_count": 19,
   "id": "44d86de0-c6d2-4cb5-9087-035346e4be58",
   "metadata": {
    "ExecuteTime": {
     "end_time": "2023-05-03T07:54:37.298753174Z",
     "start_time": "2023-05-03T07:54:36.996976893Z"
    },
    "tags": []
   },
   "outputs": [],
   "source": [
    "from sklearn.preprocessing import LabelEncoder"
   ]
  },
  {
   "cell_type": "markdown",
   "id": "4167bd0b-5740-4c8c-9eb0-c4f0a2da1338",
   "metadata": {},
   "source": [
    "LabelEncoder Function Tree Structure\n",
    "\n",
    "**sklearn** -> **preprocessing** -> **LabelEncoder**\n",
    " "
   ]
  },
  {
   "cell_type": "code",
   "execution_count": 20,
   "id": "4e050c5c-89dd-424f-80cc-ebcf30f181d6",
   "metadata": {
    "ExecuteTime": {
     "end_time": "2023-05-03T07:54:40.208116533Z",
     "start_time": "2023-05-03T07:54:40.200968534Z"
    },
    "tags": []
   },
   "outputs": [],
   "source": [
    "# create a LabelEncoder object\n",
    "le = LabelEncoder()"
   ]
  },
  {
   "cell_type": "code",
   "execution_count": 21,
   "id": "1aaee06c-9c8a-4809-9411-8722d3039760",
   "metadata": {
    "ExecuteTime": {
     "end_time": "2023-05-03T07:54:42.023135435Z",
     "start_time": "2023-05-03T07:54:41.976917709Z"
    },
    "tags": []
   },
   "outputs": [],
   "source": [
    "# Extract Precipitation Type as an array\n",
    "precipitation_types = np.array(Data['Precip Type'])\n",
    "\n",
    "# label encode the 'Precip Type' column\n",
    "Data['Precip Type'] = le.fit_transform(precipitation_types)"
   ]
  },
  {
   "cell_type": "code",
   "execution_count": 22,
   "id": "4a72faf8-a65d-4ad1-8a55-f6d84f247d3a",
   "metadata": {
    "ExecuteTime": {
     "end_time": "2023-05-03T07:54:44.254526726Z",
     "start_time": "2023-05-03T07:54:44.244152633Z"
    },
    "tags": []
   },
   "outputs": [
    {
     "name": "stdout",
     "output_type": "stream",
     "text": [
      "0: rain\n",
      "1: snow\n"
     ]
    }
   ],
   "source": [
    "# get the actual categorical values and their corresponding encoded values\n",
    "encoded_values = list(le.classes_)\n",
    "actual_values = list(Data['Precip Type'].unique())\n",
    "\n",
    "# print the actual values and their encoded values\n",
    "for i in range(len(encoded_values)):\n",
    "    print(f'{actual_values[i]}: {encoded_values[i]}')"
   ]
  },
  {
   "cell_type": "markdown",
   "id": "88df42bf-e9ad-4eb0-ae4d-ee532ead52cc",
   "metadata": {},
   "source": [
    "### **Standarization/Normalization**\n",
    "\n",
    "\n",
    "- Data standardization or normalization is a preprocessing step in which the scale of the features in a dataset is **transformed** so that they are on a **common scale**. \n",
    "\n",
    "- Standardization and normalization are important because they can improve the performance and accuracy of many machine learning algorithms, particularly those that are **sensitive to the scale of the input features**. By standardizing or normalizing the data, we can ensure that the input features **have equal importance in determining the output, regardless of their original scale**.\n",
    "\n",
    "- Normalization can be particularly useful when we have features with **very different ranges or units of measurement**. By scaling these features to a common range, we can ensure that they have similar impact on the model.\n",
    "\n",
    "- Overall, they help to improve the accuracy and robustness of machine learning models.\n",
    "\n",
    "Lets import **MinMaxScaler** class from _**sklearn**_ library"
   ]
  },
  {
   "cell_type": "code",
   "execution_count": 23,
   "id": "526c1733-710f-45f9-9be2-a5bf83758bf8",
   "metadata": {
    "ExecuteTime": {
     "end_time": "2023-05-03T07:54:46.197335025Z",
     "start_time": "2023-05-03T07:54:46.191336222Z"
    },
    "tags": []
   },
   "outputs": [],
   "source": [
    "from sklearn.preprocessing import MinMaxScaler"
   ]
  },
  {
   "cell_type": "markdown",
   "id": "40a448a0-d103-43c7-ac96-89ad7a3b6c86",
   "metadata": {},
   "source": [
    "The **MinMaxScaler** function is a normalization method in scikit-learn that scales the data features to a specified range, usually between 0 and 1.\n",
    "\n",
    "The **MinMaxScaler** function works by subtracting the minimum value of the feature and then dividing by the range (i.e., the difference between the maximum and minimum value) of the feature. This process ensures that the resulting feature values are in the range between 0 and 1."
   ]
  },
  {
   "cell_type": "code",
   "execution_count": 24,
   "id": "7a471bf5-8d5f-4473-b6bf-287f2740f1f8",
   "metadata": {
    "ExecuteTime": {
     "end_time": "2023-05-03T07:54:47.611542312Z",
     "start_time": "2023-05-03T07:54:47.604658790Z"
    },
    "tags": []
   },
   "outputs": [],
   "source": [
    "# Create an object for the MinMaxScaler class\n",
    "scaler = MinMaxScaler()"
   ]
  },
  {
   "cell_type": "code",
   "execution_count": 25,
   "id": "d0e7f93d-e493-43c4-996b-408d87c9072c",
   "metadata": {
    "ExecuteTime": {
     "end_time": "2023-05-03T07:54:48.158320708Z",
     "start_time": "2023-05-03T07:54:48.154226948Z"
    },
    "tags": []
   },
   "outputs": [],
   "source": [
    "# Select the features to be normalized\n",
    "features_to_normalize = ['Temperature (C)', 'Apparent Temperature (C)', 'Humidity', 'Wind Speed (km/h)']"
   ]
  },
  {
   "cell_type": "code",
   "execution_count": 26,
   "id": "2eb9698a-d5ac-4051-b476-dccb70bc0154",
   "metadata": {
    "ExecuteTime": {
     "end_time": "2023-05-03T07:54:48.794598998Z",
     "start_time": "2023-05-03T07:54:48.771149338Z"
    },
    "tags": []
   },
   "outputs": [
    {
     "name": "stdout",
     "output_type": "stream",
     "text": [
      "Minimum values in each feature:  [-21.82222222 -27.71666667   0.           0.        ]\n",
      "Maximum values in each feature: [39.90555556 39.34444444  1.         63.8526    ]\n"
     ]
    }
   ],
   "source": [
    "scaler.fit(Data[features_to_normalize]) # computes the minimum and maximum values \n",
    "\n",
    "# display the minimum and maximum values for each feature\n",
    "print('Minimum values in each feature: ', scaler.data_min_)\n",
    "print('Maximum values in each feature:', scaler.data_max_)"
   ]
  },
  {
   "cell_type": "markdown",
   "id": "75e37885-485d-4839-9ab5-cedf2957a8d7",
   "metadata": {},
   "source": [
    "**Transform the selected features using the scaler in the Dataset**"
   ]
  },
  {
   "cell_type": "code",
   "execution_count": 27,
   "id": "e292541a-d102-4006-bf38-63876636893f",
   "metadata": {
    "ExecuteTime": {
     "end_time": "2023-05-03T07:54:50.677846054Z",
     "start_time": "2023-05-03T07:54:50.671612218Z"
    },
    "tags": []
   },
   "outputs": [],
   "source": [
    "Data[features_to_normalize] = scaler.transform(Data[features_to_normalize])"
   ]
  },
  {
   "cell_type": "code",
   "execution_count": 28,
   "id": "0dfcd8ce-459e-4835-9fb6-918318602a0f",
   "metadata": {
    "ExecuteTime": {
     "end_time": "2023-05-03T07:54:51.207186514Z",
     "start_time": "2023-05-03T07:54:51.191264358Z"
    },
    "tags": []
   },
   "outputs": [
    {
     "data": {
      "text/html": [
       "<div>\n",
       "<style scoped>\n",
       "    .dataframe tbody tr th:only-of-type {\n",
       "        vertical-align: middle;\n",
       "    }\n",
       "\n",
       "    .dataframe tbody tr th {\n",
       "        vertical-align: top;\n",
       "    }\n",
       "\n",
       "    .dataframe thead th {\n",
       "        text-align: right;\n",
       "    }\n",
       "</style>\n",
       "<table border=\"1\" class=\"dataframe\">\n",
       "  <thead>\n",
       "    <tr style=\"text-align: right;\">\n",
       "      <th></th>\n",
       "      <th>Precip Type</th>\n",
       "      <th>Temperature (C)</th>\n",
       "      <th>Apparent Temperature (C)</th>\n",
       "      <th>Humidity</th>\n",
       "      <th>Wind Speed (km/h)</th>\n",
       "    </tr>\n",
       "    <tr>\n",
       "      <th>Formatted Date</th>\n",
       "      <th></th>\n",
       "      <th></th>\n",
       "      <th></th>\n",
       "      <th></th>\n",
       "      <th></th>\n",
       "    </tr>\n",
       "  </thead>\n",
       "  <tbody>\n",
       "    <tr>\n",
       "      <th>2006-03-31 22:00:00+00:00</th>\n",
       "      <td>0</td>\n",
       "      <td>0.506975</td>\n",
       "      <td>0.523486</td>\n",
       "      <td>0.89</td>\n",
       "      <td>0.221130</td>\n",
       "    </tr>\n",
       "    <tr>\n",
       "      <th>2006-03-31 23:00:00+00:00</th>\n",
       "      <td>0</td>\n",
       "      <td>0.505085</td>\n",
       "      <td>0.521084</td>\n",
       "      <td>0.86</td>\n",
       "      <td>0.223399</td>\n",
       "    </tr>\n",
       "    <tr>\n",
       "      <th>2006-04-01 00:00:00+00:00</th>\n",
       "      <td>0</td>\n",
       "      <td>0.505445</td>\n",
       "      <td>0.553144</td>\n",
       "      <td>0.89</td>\n",
       "      <td>0.061523</td>\n",
       "    </tr>\n",
       "    <tr>\n",
       "      <th>2006-04-01 01:00:00+00:00</th>\n",
       "      <td>0</td>\n",
       "      <td>0.487805</td>\n",
       "      <td>0.501947</td>\n",
       "      <td>0.83</td>\n",
       "      <td>0.220877</td>\n",
       "    </tr>\n",
       "    <tr>\n",
       "      <th>2006-04-01 02:00:00+00:00</th>\n",
       "      <td>0</td>\n",
       "      <td>0.495365</td>\n",
       "      <td>0.517356</td>\n",
       "      <td>0.83</td>\n",
       "      <td>0.172970</td>\n",
       "    </tr>\n",
       "  </tbody>\n",
       "</table>\n",
       "</div>"
      ],
      "text/plain": [
       "                           Precip Type  Temperature (C)   \n",
       "Formatted Date                                            \n",
       "2006-03-31 22:00:00+00:00            0         0.506975  \\\n",
       "2006-03-31 23:00:00+00:00            0         0.505085   \n",
       "2006-04-01 00:00:00+00:00            0         0.505445   \n",
       "2006-04-01 01:00:00+00:00            0         0.487805   \n",
       "2006-04-01 02:00:00+00:00            0         0.495365   \n",
       "\n",
       "                           Apparent Temperature (C)  Humidity   \n",
       "Formatted Date                                                  \n",
       "2006-03-31 22:00:00+00:00                  0.523486      0.89  \\\n",
       "2006-03-31 23:00:00+00:00                  0.521084      0.86   \n",
       "2006-04-01 00:00:00+00:00                  0.553144      0.89   \n",
       "2006-04-01 01:00:00+00:00                  0.501947      0.83   \n",
       "2006-04-01 02:00:00+00:00                  0.517356      0.83   \n",
       "\n",
       "                           Wind Speed (km/h)  \n",
       "Formatted Date                                \n",
       "2006-03-31 22:00:00+00:00           0.221130  \n",
       "2006-03-31 23:00:00+00:00           0.223399  \n",
       "2006-04-01 00:00:00+00:00           0.061523  \n",
       "2006-04-01 01:00:00+00:00           0.220877  \n",
       "2006-04-01 02:00:00+00:00           0.172970  "
      ]
     },
     "execution_count": 28,
     "metadata": {},
     "output_type": "execute_result"
    }
   ],
   "source": [
    "Data.head()"
   ]
  },
  {
   "cell_type": "markdown",
   "id": "6e43ed01-d335-4515-837e-a03f761db0e3",
   "metadata": {},
   "source": [
    "**To transform the dataset back to its original scale**"
   ]
  },
  {
   "cell_type": "code",
   "execution_count": 29,
   "id": "a7d50c7e-574f-4888-8429-7c36d20288cc",
   "metadata": {
    "ExecuteTime": {
     "end_time": "2023-05-03T07:54:53.345213216Z",
     "start_time": "2023-05-03T07:54:53.339742389Z"
    },
    "tags": []
   },
   "outputs": [],
   "source": [
    "# Data[features_to_normalize] = scaler.inverse_transform(Data[features_to_normalize])"
   ]
  },
  {
   "cell_type": "code",
   "execution_count": 30,
   "id": "a90338c0-488a-4a69-afb9-4c63e472a978",
   "metadata": {
    "ExecuteTime": {
     "end_time": "2023-05-03T07:54:53.918725380Z",
     "start_time": "2023-05-03T07:54:53.910290244Z"
    },
    "tags": []
   },
   "outputs": [],
   "source": [
    "# Data.head()"
   ]
  },
  {
   "cell_type": "markdown",
   "id": "81e1a79c-3e12-4dc2-9ab3-acda1bbb029f",
   "metadata": {},
   "source": [
    "### **Downsampling**\n",
    "In the context of machine learning, downsampling refers to the process of reducing the resolution or frequency of a dataset by aggregating or subsampling data points. \n",
    "This is typically done to:\n",
    "- reduce the size of a dataset\n",
    "- improve the efficiency of machine learning algorithms\n",
    "- avoid overfitting."
   ]
  },
  {
   "cell_type": "markdown",
   "id": "6d2899b4-08ee-4827-9391-a56d15d646e3",
   "metadata": {},
   "source": [
    "**Current Sampling Frequency**"
   ]
  },
  {
   "cell_type": "code",
   "execution_count": 31,
   "id": "7d964928-0396-433f-9d7d-cb96510715aa",
   "metadata": {
    "tags": []
   },
   "outputs": [
    {
     "name": "stdout",
     "output_type": "stream",
     "text": [
      "0 days 01:00:00\n"
     ]
    }
   ],
   "source": [
    "# Calculate the time differences between consecutive timestamps\n",
    "time_diff = Data.index.to_series().diff()\n",
    "\n",
    "# Calculate the median time difference (measurement frequency)\n",
    "measurement_frequency = time_diff.median()\n",
    "print(measurement_frequency)"
   ]
  },
  {
   "cell_type": "markdown",
   "id": "a695d91f-3b41-4afc-a380-d0af9763eccc",
   "metadata": {},
   "source": [
    "**Method 1**"
   ]
  },
  {
   "cell_type": "code",
   "execution_count": 32,
   "id": "cbec2ccc-2168-48fe-9829-cab1f346a16c",
   "metadata": {
    "tags": []
   },
   "outputs": [],
   "source": [
    "skip_width = 4\n",
    "\n",
    "# Get every 5th row from the dataframe (_DS stands for Downsampling)\n",
    "Data_DS = Data.iloc[::(skip_width+1)]"
   ]
  },
  {
   "cell_type": "markdown",
   "id": "00368c2d-cad9-495a-bf55-2a60f21b5599",
   "metadata": {},
   "source": [
    "- _'iloc'_ is short for \"integer location\", and is used to select rows and columns from a pandas dataframe based on their integer position.\n",
    "- The ::5 argument specifies a step of 5, which means that every 5th row of the dataframe will be selected.\n",
    "- The first : specifies that we want to select all rows in the dataframe.\n",
    "- The second : is optional and specifies the columns we want to select. If omitted, all columns will be selected."
   ]
  },
  {
   "cell_type": "code",
   "execution_count": 33,
   "id": "0dd843b6-0415-4d2d-a2c9-699213236cff",
   "metadata": {
    "tags": []
   },
   "outputs": [
    {
     "name": "stdout",
     "output_type": "stream",
     "text": [
      "0 days 05:00:00\n"
     ]
    }
   ],
   "source": [
    "time_diff = Data_DS.index.to_series().diff()\n",
    "\n",
    "# Calculate the median time difference (measurement frequency)\n",
    "measurement_frequency = time_diff.median()\n",
    "print(measurement_frequency)"
   ]
  },
  {
   "cell_type": "markdown",
   "id": "2b21f4ab-9029-4431-9ed0-ac6fa732d420",
   "metadata": {},
   "source": [
    "**Method 2**"
   ]
  },
  {
   "cell_type": "code",
   "execution_count": 34,
   "id": "302f88a5-9377-468c-b4b3-caae72d833e3",
   "metadata": {},
   "outputs": [],
   "source": [
    "resample_timeframe = '5H'\n",
    "\n",
    "# Resample the dataframe to a frequency of hours defined\n",
    "Data_DS_downsampled = Data_DS.resample(resample_timeframe).mean()"
   ]
  },
  {
   "cell_type": "code",
   "execution_count": 35,
   "id": "17f3c2a6-dccb-4430-af87-be08e7e3de17",
   "metadata": {
    "tags": []
   },
   "outputs": [
    {
     "name": "stdout",
     "output_type": "stream",
     "text": [
      "0 days 05:00:00\n"
     ]
    }
   ],
   "source": [
    "time_diff = Data_DS.index.to_series().diff()\n",
    "\n",
    "# Calculate the median time difference (measurement frequency)\n",
    "measurement_frequency = time_diff.median()\n",
    "print(measurement_frequency)"
   ]
  },
  {
   "cell_type": "markdown",
   "id": "2c99b897-5921-4352-94c2-ad05d60b320d",
   "metadata": {
    "tags": []
   },
   "source": [
    "## **6. Export/Save Cleaned Data**"
   ]
  },
  {
   "cell_type": "markdown",
   "id": "7e6066af-85b0-4fc6-a777-c36eec9cc6bf",
   "metadata": {},
   "source": [
    "- **Pickle** is a module in Python that enables the serialization and deserialization of Python objects, which includes intricate data structures like classes, lists, and dictionaries. \n",
    "\n",
    "- The **pickle format** can be used to store a program's state, comprising complicated data structures, and to retrieve it in the future.\n",
    "\n",
    "Lets import **pickle** library"
   ]
  },
  {
   "cell_type": "code",
   "execution_count": 36,
   "id": "49118e8a-7b83-4b81-86cf-8e34292e0bf2",
   "metadata": {
    "ExecuteTime": {
     "end_time": "2023-05-03T07:54:56.264415558Z",
     "start_time": "2023-05-03T07:54:56.257969802Z"
    },
    "tags": []
   },
   "outputs": [],
   "source": [
    "import pickle"
   ]
  },
  {
   "cell_type": "markdown",
   "id": "a2c98b08-bb07-4ef3-b1d8-783cba8c008b",
   "metadata": {},
   "source": [
    "### Pickle the DataFrame (Saving)"
   ]
  },
  {
   "cell_type": "code",
   "execution_count": 37,
   "id": "8040d837-ab5f-4574-93d1-e233bfc287bf",
   "metadata": {
    "ExecuteTime": {
     "end_time": "2023-05-03T07:54:57.456751998Z",
     "start_time": "2023-05-03T07:54:57.438902187Z"
    },
    "tags": []
   },
   "outputs": [],
   "source": [
    "with open('data/myDataset.pickle', 'wb') as file:\n",
    "    pickle.dump(Data_DS, file)"
   ]
  },
  {
   "cell_type": "markdown",
   "id": "62e5a87b-ac02-435c-83dd-bfe3b27023f4",
   "metadata": {},
   "source": [
    "### Reading Pickle File (Loading)"
   ]
  },
  {
   "cell_type": "code",
   "execution_count": 38,
   "id": "46b0eb76-278d-47e1-96de-bf2a51df15a4",
   "metadata": {
    "ExecuteTime": {
     "end_time": "2023-05-03T07:54:59.079390802Z",
     "start_time": "2023-05-03T07:54:59.036700980Z"
    },
    "tags": []
   },
   "outputs": [],
   "source": [
    "with open('data/myDataset.pickle', 'rb') as file:\n",
    "    Data_New = pickle.load(file)"
   ]
  },
  {
   "cell_type": "code",
   "execution_count": 39,
   "id": "1e6f7280-4f33-432f-a485-4948061a0cb8",
   "metadata": {
    "ExecuteTime": {
     "end_time": "2023-05-03T07:54:59.679145572Z",
     "start_time": "2023-05-03T07:54:59.636643765Z"
    },
    "tags": []
   },
   "outputs": [
    {
     "data": {
      "text/html": [
       "<div>\n",
       "<style scoped>\n",
       "    .dataframe tbody tr th:only-of-type {\n",
       "        vertical-align: middle;\n",
       "    }\n",
       "\n",
       "    .dataframe tbody tr th {\n",
       "        vertical-align: top;\n",
       "    }\n",
       "\n",
       "    .dataframe thead th {\n",
       "        text-align: right;\n",
       "    }\n",
       "</style>\n",
       "<table border=\"1\" class=\"dataframe\">\n",
       "  <thead>\n",
       "    <tr style=\"text-align: right;\">\n",
       "      <th></th>\n",
       "      <th>Precip Type</th>\n",
       "      <th>Temperature (C)</th>\n",
       "      <th>Apparent Temperature (C)</th>\n",
       "      <th>Humidity</th>\n",
       "      <th>Wind Speed (km/h)</th>\n",
       "    </tr>\n",
       "    <tr>\n",
       "      <th>Formatted Date</th>\n",
       "      <th></th>\n",
       "      <th></th>\n",
       "      <th></th>\n",
       "      <th></th>\n",
       "      <th></th>\n",
       "    </tr>\n",
       "  </thead>\n",
       "  <tbody>\n",
       "    <tr>\n",
       "      <th>2006-03-31 22:00:00+00:00</th>\n",
       "      <td>0</td>\n",
       "      <td>0.506975</td>\n",
       "      <td>0.523486</td>\n",
       "      <td>0.89</td>\n",
       "      <td>0.221130</td>\n",
       "    </tr>\n",
       "    <tr>\n",
       "      <th>2006-04-01 03:00:00+00:00</th>\n",
       "      <td>0</td>\n",
       "      <td>0.502925</td>\n",
       "      <td>0.519344</td>\n",
       "      <td>0.85</td>\n",
       "      <td>0.218608</td>\n",
       "    </tr>\n",
       "    <tr>\n",
       "      <th>2006-04-01 08:00:00+00:00</th>\n",
       "      <td>0</td>\n",
       "      <td>0.612996</td>\n",
       "      <td>0.652141</td>\n",
       "      <td>0.67</td>\n",
       "      <td>0.275088</td>\n",
       "    </tr>\n",
       "    <tr>\n",
       "      <th>2006-04-01 13:00:00+00:00</th>\n",
       "      <td>0</td>\n",
       "      <td>0.659887</td>\n",
       "      <td>0.695303</td>\n",
       "      <td>0.46</td>\n",
       "      <td>0.162885</td>\n",
       "    </tr>\n",
       "    <tr>\n",
       "      <th>2006-04-01 18:00:00+00:00</th>\n",
       "      <td>0</td>\n",
       "      <td>0.540635</td>\n",
       "      <td>0.585536</td>\n",
       "      <td>0.77</td>\n",
       "      <td>0.115734</td>\n",
       "    </tr>\n",
       "  </tbody>\n",
       "</table>\n",
       "</div>"
      ],
      "text/plain": [
       "                           Precip Type  Temperature (C)   \n",
       "Formatted Date                                            \n",
       "2006-03-31 22:00:00+00:00            0         0.506975  \\\n",
       "2006-04-01 03:00:00+00:00            0         0.502925   \n",
       "2006-04-01 08:00:00+00:00            0         0.612996   \n",
       "2006-04-01 13:00:00+00:00            0         0.659887   \n",
       "2006-04-01 18:00:00+00:00            0         0.540635   \n",
       "\n",
       "                           Apparent Temperature (C)  Humidity   \n",
       "Formatted Date                                                  \n",
       "2006-03-31 22:00:00+00:00                  0.523486      0.89  \\\n",
       "2006-04-01 03:00:00+00:00                  0.519344      0.85   \n",
       "2006-04-01 08:00:00+00:00                  0.652141      0.67   \n",
       "2006-04-01 13:00:00+00:00                  0.695303      0.46   \n",
       "2006-04-01 18:00:00+00:00                  0.585536      0.77   \n",
       "\n",
       "                           Wind Speed (km/h)  \n",
       "Formatted Date                                \n",
       "2006-03-31 22:00:00+00:00           0.221130  \n",
       "2006-04-01 03:00:00+00:00           0.218608  \n",
       "2006-04-01 08:00:00+00:00           0.275088  \n",
       "2006-04-01 13:00:00+00:00           0.162885  \n",
       "2006-04-01 18:00:00+00:00           0.115734  "
      ]
     },
     "execution_count": 39,
     "metadata": {},
     "output_type": "execute_result"
    }
   ],
   "source": [
    "Data_New.head()"
   ]
  }
 ],
 "metadata": {
  "kernelspec": {
   "display_name": "Python 3 (ipykernel)",
   "language": "python",
   "name": "python3"
  },
  "language_info": {
   "codemirror_mode": {
    "name": "ipython",
    "version": 3
   },
   "file_extension": ".py",
   "mimetype": "text/x-python",
   "name": "python",
   "nbconvert_exporter": "python",
   "pygments_lexer": "ipython3",
   "version": "3.9.16"
  }
 },
 "nbformat": 4,
 "nbformat_minor": 5
}
